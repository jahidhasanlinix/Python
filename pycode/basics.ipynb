{
 "cells": [
  {
   "cell_type": "markdown",
   "metadata": {},
   "source": [
    "# Practice Basic Python codes with FreeCodeCamp"
   ]
  },
  {
   "cell_type": "code",
   "execution_count": 1,
   "metadata": {},
   "outputs": [
    {
     "name": "stdout",
     "output_type": "stream",
     "text": [
      "Hello World!\n"
     ]
    }
   ],
   "source": [
    "print('Hello World!')"
   ]
  },
  {
   "cell_type": "code",
   "execution_count": 2,
   "metadata": {},
   "outputs": [
    {
     "name": "stdout",
     "output_type": "stream",
     "text": [
      "   /|\n",
      "  / |\n",
      " /  |\n",
      "/___|\n"
     ]
    }
   ],
   "source": [
    "# Draw a triangle\n",
    "print('   /|')\n",
    "print('  / |')\n",
    "print(' /  |')\n",
    "print('/___|')"
   ]
  },
  {
   "cell_type": "code",
   "execution_count": 3,
   "metadata": {},
   "outputs": [
    {
     "name": "stdout",
     "output_type": "stream",
     "text": [
      "Hey how are you doing?\n",
      "Yeah, I am good, Jahid.\n",
      "How about you, Hasan\n",
      "Thanks, Jahid.\n",
      "I am 25, Jahid\n",
      "wow, you are just older than 2 years.\n",
      "I thought you are 22.\n"
     ]
    }
   ],
   "source": [
    "# variables and data types\n",
    "char_name = 'Jahid'\n",
    "char_age = '25'\n",
    "\n",
    "print('Hey how are you doing?')\n",
    "print('Yeah, I am good, Jahid.')\n",
    "print('How about you, Hasan')\n",
    "print('Thanks, Jahid.')\n",
    "print('I am 25, Jahid')\n",
    "print('wow, you are just older than 2 years.')\n",
    "print('I thought you are 22.')"
   ]
  },
  {
   "cell_type": "code",
   "execution_count": 4,
   "metadata": {},
   "outputs": [
    {
     "name": "stdout",
     "output_type": "stream",
     "text": [
      "Hey how are you doing?\n",
      "Yeah, I am good,James Bond.\n",
      "How about you, Hasan\n",
      "Thanks, James Bond.\n",
      "I am 15 years old. Roman.\n",
      "wow, you are just older than 2 years.\n",
      "I thought you are 22.\n"
     ]
    }
   ],
   "source": [
    "# variables and data types\n",
    "char_name = 'James Bond'\n",
    "char_age = '15'\n",
    "\n",
    "print('Hey how are you doing?')\n",
    "print('Yeah, I am good,' + char_name +'.')\n",
    "print('How about you, Hasan')\n",
    "print('Thanks, ' + char_name +'.')\n",
    "\n",
    "char_name ='Roman'\n",
    "\n",
    "print('I am ' + char_age + ' years old. ' + char_name +'.')\n",
    "print('wow, you are just older than 2 years.')\n",
    "print('I thought you are 22.')"
   ]
  },
  {
   "cell_type": "code",
   "execution_count": 5,
   "metadata": {},
   "outputs": [
    {
     "name": "stdout",
     "output_type": "stream",
     "text": [
      "Hey, \n",
      "Its me Jahid.\n",
      "Jahid\"Hasan\n",
      "Jahid\\Hasan\n",
      "Jahid Hasan\n",
      "Jahid Hasan is a student.\n",
      "jahid hasan\n",
      "JAHID HASAN\n",
      "False\n",
      "False\n",
      "True\n",
      "11\n",
      "<class 'str'>\n",
      "J\n",
      "6\n",
      "Jahid Superb.\n"
     ]
    }
   ],
   "source": [
    "#Strings\n",
    "print('Hey, \\nIts me Jahid.')\n",
    "print(\"Jahid\\\"Hasan\")\n",
    "print(\"Jahid\\Hasan\")\n",
    "\n",
    "phrase = \"Jahid Hasan\"\n",
    "print(phrase)\n",
    "\n",
    "phrase = \"Jahid Hasan\"\n",
    "print(phrase+ ' is a student.')\n",
    "\n",
    "phrase = \"Jahid Hasan\"\n",
    "print(phrase.lower())\n",
    "\n",
    "phrase = \"Jahid Hasan\"\n",
    "print(phrase.upper())\n",
    "\n",
    "phrase = \"Jahid Hasan\"\n",
    "print(phrase.islower())\n",
    "\n",
    "phrase = \"Jahid Hasan\"\n",
    "print(phrase.isupper())\n",
    "\n",
    "phrase = \"Jahid Hasan\"\n",
    "print(phrase.lower().islower())\n",
    "\n",
    "phrase = \"Jahid Hasan\"\n",
    "print(len(phrase))\n",
    "\n",
    "phrase = \"Jahid Hasan\"\n",
    "print(type(phrase))\n",
    "\n",
    "phrase = \"Jahid Hasan\"\n",
    "print(phrase[0])\n",
    "\n",
    "phrase = \"Jahid Hasan\"\n",
    "print(phrase.index('H'))\n",
    "\n",
    "phrase = \"Jahid Hasan\"\n",
    "print(phrase.replace('Hasan','Superb.'))"
   ]
  },
  {
   "cell_type": "code",
   "execution_count": 6,
   "metadata": {},
   "outputs": [
    {
     "name": "stdout",
     "output_type": "stream",
     "text": [
      "4\n",
      "50\n",
      "0\n",
      "1\n",
      "10\n",
      "10 is a number.\n",
      "3\n",
      "15625\n",
      "7\n",
      "2\n"
     ]
    }
   ],
   "source": [
    "#Numbers\n",
    "print(2*2)\n",
    "print(5*(9+1))\n",
    "\n",
    "print(100%4)\n",
    "print(100%3)\n",
    "\n",
    "num_1=10\n",
    "print(num_1)\n",
    "print(str(num_1) + \" is a number.\")\n",
    "\n",
    "#absoulute value (abs)\n",
    "num_2 = -3\n",
    "print(abs(num_2))\n",
    "\n",
    "#power\n",
    "num_2 = -3\n",
    "print(pow(5,6))\n",
    "\n",
    "#Max/Min\n",
    "num_2 = -3\n",
    "print(max(7,4))\n",
    "\n",
    "#Round fn\n",
    "num_2 = -3\n",
    "print(round(2.4))"
   ]
  },
  {
   "cell_type": "code",
   "execution_count": 7,
   "metadata": {},
   "outputs": [
    {
     "name": "stdout",
     "output_type": "stream",
     "text": [
      "1\n",
      "2\n",
      "1.1832159566199232\n"
     ]
    }
   ],
   "source": [
    "# Import differant math functions\n",
    "from math import *\n",
    "\n",
    "num = 3\n",
    "print(floor(1.9))\n",
    "\n",
    "num = 3\n",
    "print(ceil(1.8))\n",
    "\n",
    "num = 3\n",
    "print(sqrt(1.4))"
   ]
  },
  {
   "cell_type": "code",
   "execution_count": 8,
   "metadata": {},
   "outputs": [
    {
     "name": "stdout",
     "output_type": "stream",
     "text": [
      "Enter your name: Jahid Hasan\n"
     ]
    },
    {
     "data": {
      "text/plain": [
       "'Jahid Hasan'"
      ]
     },
     "execution_count": 8,
     "metadata": {},
     "output_type": "execute_result"
    }
   ],
   "source": [
    "# Input from a user\n",
    "input('Enter your name: ')"
   ]
  },
  {
   "cell_type": "code",
   "execution_count": 9,
   "metadata": {},
   "outputs": [
    {
     "name": "stdout",
     "output_type": "stream",
     "text": [
      "Enter your name: Jahid\n",
      "Enter your age: 25\n",
      "Hey! Jahid. I am 25.\n"
     ]
    }
   ],
   "source": [
    "name = input('Enter your name: ')\n",
    "age = input('Enter your age: ')\n",
    "print('Hey! ' + name + '. I am ' +age+'.')"
   ]
  },
  {
   "cell_type": "code",
   "execution_count": 10,
   "metadata": {},
   "outputs": [
    {
     "name": "stdout",
     "output_type": "stream",
     "text": [
      "Enter a number: 4\n",
      "Enter another number: 5\n",
      "9\n"
     ]
    }
   ],
   "source": [
    "# Basic Calculator\n",
    "num1 = input('Enter a number: ')\n",
    "num2 = input('Enter another number: ')\n",
    "result = int(num1)+int(num2)\n",
    "\n",
    "print(result)"
   ]
  },
  {
   "cell_type": "code",
   "execution_count": 11,
   "metadata": {},
   "outputs": [
    {
     "name": "stdout",
     "output_type": "stream",
     "text": [
      "Enter a number: 5\n",
      "Enter another number: 3\n",
      "8.0\n"
     ]
    }
   ],
   "source": [
    "num1 = input('Enter a number: ')\n",
    "num2 = input('Enter another number: ')\n",
    "result = float(num1)+float(num2)\n",
    "\n",
    "print(result)"
   ]
  },
  {
   "cell_type": "code",
   "execution_count": 13,
   "metadata": {},
   "outputs": [
    {
     "name": "stdout",
     "output_type": "stream",
     "text": [
      "Enter a color: Green\n",
      "Enter a Plural Noun: Sky\n",
      "Enter a celebrity: Tom\n",
      "Roses are Green\n",
      "Sky are blue\n",
      "I love Tom.\n"
     ]
    }
   ],
   "source": [
    "#Mad libs game\n",
    "color = input('Enter a color: ')\n",
    "plural_noun = input('Enter a Plural Noun: ')\n",
    "celebrity = input('Enter a celebrity: ')\n",
    "\n",
    "print('Roses are '+color)\n",
    "print(plural_noun+ ' are blue')\n",
    "print('I love ' +celebrity+'.')"
   ]
  },
  {
   "cell_type": "code",
   "execution_count": 14,
   "metadata": {},
   "outputs": [
    {
     "name": "stdout",
     "output_type": "stream",
     "text": [
      "['AJ', 'Roman', 'Seth', 'Rollins', 'HHH', 'RKO']\n",
      "AJ\n",
      "['Roman', 'Seth', 'Rollins', 'HHH', 'RKO']\n",
      "HHH\n",
      "<class 'list'>\n",
      "6\n"
     ]
    }
   ],
   "source": [
    "#list\n",
    "name = ['Jack', 'Roman', 'Seth','Rollins', 'HHH','RKO']\n",
    "name[0] = 'AJ'\n",
    "\n",
    "print(name)\n",
    "print(name[0])\n",
    "print(name[1:])\n",
    "print(name[-2])\n",
    "print(type(name))\n",
    "print(len(name))"
   ]
  },
  {
   "cell_type": "code",
   "execution_count": 15,
   "metadata": {},
   "outputs": [
    {
     "name": "stdout",
     "output_type": "stream",
     "text": [
      "[1, 3, 5, 6, 8, 21, 34, 45, 67]\n",
      "['Jack', 'Roman', 'Roman', 'Seth', 'Rollins', 'HHH', 'RKO', 1, 3, 5, 6, 8, 34, 21, 67, 45, 'Bobby']\n",
      "1\n",
      "2\n"
     ]
    }
   ],
   "source": [
    "#List function\n",
    "numbers = [1,3,5,6,8,34,21,67,45]\n",
    "name = ['Jack', 'Roman','Roman', 'Seth','Rollins', 'HHH','RKO']\n",
    "name.extend(numbers)\n",
    "name.append('Bobby')\n",
    "name.insert(1, 'Lana')\n",
    "name.remove('Lana')\n",
    "#name.clear()\n",
    "#name.pop()\n",
    "numbers.sort()\n",
    "#numbers.reverse()\n",
    "\n",
    "print(numbers)\n",
    "print(name)\n",
    "print(name.index('Roman'))\n",
    "print(name.count('Roman'))"
   ]
  },
  {
   "cell_type": "code",
   "execution_count": 16,
   "metadata": {},
   "outputs": [
    {
     "name": "stdout",
     "output_type": "stream",
     "text": [
      "['Jack', 'Roman', 'Roman', 'Seth', 'Rollins', 'HHH', 'RKO']\n"
     ]
    }
   ],
   "source": [
    "#copy\n",
    "numbers = [1,3,5,6,8,34,21,67,45]\n",
    "name = ['Jack', 'Roman','Roman', 'Seth','Rollins', 'HHH','RKO']\n",
    "\n",
    "name_2 = name.copy()\n",
    "\n",
    "print(name_2)"
   ]
  },
  {
   "cell_type": "code",
   "execution_count": 17,
   "metadata": {},
   "outputs": [
    {
     "name": "stdout",
     "output_type": "stream",
     "text": [
      "4\n",
      "5\n"
     ]
    }
   ],
   "source": [
    "#tubles- store different value, similar to list, store multiple info\n",
    "# immutable\n",
    "\n",
    "coordinates = (4,5)\n",
    "#coordinates[1] =10 # this gives err as its immutable\n",
    "\n",
    "print(coordinates[0])\n",
    "print(coordinates[1])"
   ]
  },
  {
   "cell_type": "code",
   "execution_count": 18,
   "metadata": {},
   "outputs": [
    {
     "name": "stdout",
     "output_type": "stream",
     "text": [
      "Hey there.\n"
     ]
    }
   ],
   "source": [
    "# Function-collection of code-perform specific task\n",
    "def greet():\n",
    "    print('Hey there.')\n",
    "\n",
    "#print('Top')\n",
    "greet()\n",
    "#print('Bottom')"
   ]
  },
  {
   "cell_type": "code",
   "execution_count": 19,
   "metadata": {},
   "outputs": [
    {
     "name": "stdout",
     "output_type": "stream",
     "text": [
      "Hey, Jahid\n",
      "Hey, Hasan\n"
     ]
    }
   ],
   "source": [
    "def greet(name):\n",
    "    print('Hey, '+name)\n",
    "\n",
    "greet('Jahid')\n",
    "greet('Hasan')"
   ]
  },
  {
   "cell_type": "code",
   "execution_count": 20,
   "metadata": {},
   "outputs": [
    {
     "name": "stdout",
     "output_type": "stream",
     "text": [
      "Hey, Jahid, Your age is 25, right.\n",
      "Hey, Hasan, Your age is 24, right.\n"
     ]
    }
   ],
   "source": [
    "def greet(name, age):\n",
    "    print('Hey, '+name+', Your age is '+str(age)+', right.')\n",
    "\n",
    "greet('Jahid', '25')\n",
    "greet('Hasan', '24')"
   ]
  },
  {
   "cell_type": "code",
   "execution_count": 21,
   "metadata": {},
   "outputs": [
    {
     "name": "stdout",
     "output_type": "stream",
     "text": [
      "64\n"
     ]
    }
   ],
   "source": [
    "#Return statement\n",
    "def cube(num):\n",
    "    return num*num*num\n",
    "\n",
    "result = cube(4)\n",
    "print(result)\n",
    "#cube(4)    \n",
    "#cube(3) -give nothing\n",
    "#print(cube(3))"
   ]
  },
  {
   "cell_type": "code",
   "execution_count": 22,
   "metadata": {},
   "outputs": [
    {
     "name": "stdout",
     "output_type": "stream",
     "text": [
      "You are not a male.\n"
     ]
    }
   ],
   "source": [
    "#If statement\n",
    "is_male = False\n",
    "\n",
    "if is_male:\n",
    "    print(\"You are a male.\")\n",
    "    \n",
    "else:\n",
    "    print(\"You are not a male.\")\n",
    " "
   ]
  },
  {
   "cell_type": "code",
   "execution_count": 23,
   "metadata": {},
   "outputs": [
    {
     "name": "stdout",
     "output_type": "stream",
     "text": [
      "You are a male or tall or both.\n"
     ]
    }
   ],
   "source": [
    "is_male = True\n",
    "is_tall = True\n",
    "\n",
    "if is_male or is_tall:\n",
    "    print(\"You are a male or tall or both.\")\n",
    "    \n",
    "else:\n",
    "    print(\"You are neither male or tall.\")"
   ]
  },
  {
   "cell_type": "code",
   "execution_count": 24,
   "metadata": {},
   "outputs": [
    {
     "name": "stdout",
     "output_type": "stream",
     "text": [
      "You are a tall male.\n"
     ]
    }
   ],
   "source": [
    "is_male = True\n",
    "is_tall = True\n",
    "\n",
    "if is_male and is_tall:\n",
    "    print(\"You are a tall male.\")\n",
    "    \n",
    "else:\n",
    "    print(\"You are either not male or tall or both.\")"
   ]
  },
  {
   "cell_type": "code",
   "execution_count": 25,
   "metadata": {},
   "outputs": [
    {
     "name": "stdout",
     "output_type": "stream",
     "text": [
      "You are a short male\n"
     ]
    }
   ],
   "source": [
    "is_male = True\n",
    "is_tall = False\n",
    "\n",
    "if is_male and is_tall:\n",
    "    print(\"You are a tall male.\")\n",
    "    \n",
    "elif is_male and not(is_tall):\n",
    "    print('You are a short male')\n",
    "    \n",
    "elif not(is_male) and is_tall:\n",
    "    print('You are not a male but tall.')\n",
    "    \n",
    "else:\n",
    "    print(\"You are either not male or tall or both.\")"
   ]
  },
  {
   "cell_type": "code",
   "execution_count": 26,
   "metadata": {},
   "outputs": [
    {
     "name": "stdout",
     "output_type": "stream",
     "text": [
      "98\n"
     ]
    }
   ],
   "source": [
    "def max_num(num1, num2, num3):\n",
    "    if num1 >= num2 and num1 >= num3:\n",
    "        return num1\n",
    "    elif num2 >= num1 and num2 >= num3:\n",
    "        return num2\n",
    "    else:\n",
    "        return num3\n",
    "    \n",
    "print(max_num(13,91,98))"
   ]
  },
  {
   "cell_type": "code",
   "execution_count": 28,
   "metadata": {},
   "outputs": [
    {
     "name": "stdout",
     "output_type": "stream",
     "text": [
      "Enter first number: 5\n",
      "Enter operator: -\n",
      "Enter second number: 9\n",
      "-4.0\n"
     ]
    }
   ],
   "source": [
    "#Calculator using arithmatic op\n",
    "num1 = float(input('Enter first number: '))\n",
    "op = input('Enter operator: ')\n",
    "num2 = float(input('Enter second number: '))\n",
    "\n",
    "if op == '+':\n",
    "    print(num1 + num2)\n",
    "elif op == '-':\n",
    "    print(num1 - num2)\n",
    "elif op == '/':\n",
    "    print(num1 / num2)\n",
    "elif op == '*':\n",
    "    print(num1 * num2)\n",
    "elif op == '%':\n",
    "    print(num1 % num2)\n",
    "else:\n",
    "    print('Invalid!')\n"
   ]
  },
  {
   "cell_type": "code",
   "execution_count": 29,
   "metadata": {},
   "outputs": [
    {
     "name": "stdout",
     "output_type": "stream",
     "text": [
      "{'Jan': 'January', 'Feb': 'February', 'Mar': 'March', 'Apr': 'April', 'May': 'May', 'Jun': 'June', 'Jul': 'July', 'Aug': 'August', 'Sep': 'September', 'Oct': 'October', 'Nov': 'November', 'Dec': 'December'}\n",
      "June\n",
      "March\n",
      "Not a valid key!\n"
     ]
    }
   ],
   "source": [
    "#Dictionaries\n",
    "month_conversion ={\n",
    "    'Jan': 'January',\n",
    "    'Feb': 'February',\n",
    "    'Mar': 'March',\n",
    "    'Apr': 'April',\n",
    "    'May': 'May',\n",
    "    'Jun': 'June',\n",
    "    'Jul': 'July',\n",
    "    'Aug': 'August',\n",
    "    'Sep': 'September',\n",
    "    'Oct': 'October',\n",
    "    'Nov': 'November',\n",
    "    'Dec': 'December',\n",
    "        \n",
    "}\n",
    "\n",
    "print(month_conversion)\n",
    "print(month_conversion['Jun'])\n",
    "print(month_conversion.get('Mar'))\n",
    "print(month_conversion.get('Mr', 'Not a valid key!'))"
   ]
  },
  {
   "cell_type": "code",
   "execution_count": 30,
   "metadata": {},
   "outputs": [
    {
     "name": "stdout",
     "output_type": "stream",
     "text": [
      "1\n",
      "2\n",
      "3\n",
      "4\n",
      "5\n",
      "6\n",
      "Finished.\n"
     ]
    }
   ],
   "source": [
    "#while loops\n",
    "i =1\n",
    "while i <=6:\n",
    "    print(i)\n",
    "    i +=1\n",
    "    \n",
    "print('Finished.')"
   ]
  },
  {
   "cell_type": "code",
   "execution_count": 31,
   "metadata": {},
   "outputs": [
    {
     "name": "stdout",
     "output_type": "stream",
     "text": [
      "2\n",
      "3\n",
      "4\n",
      "5\n",
      "Finished.\n"
     ]
    }
   ],
   "source": [
    "i =2\n",
    "while i <=5:\n",
    "    print(i)\n",
    "    i +=1\n",
    "    \n",
    "print('Finished.')"
   ]
  },
  {
   "cell_type": "code",
   "execution_count": 32,
   "metadata": {},
   "outputs": [
    {
     "name": "stdout",
     "output_type": "stream",
     "text": [
      "Enter your guess: messi\n",
      "Enter your guess: messi\n",
      "Enter your guess: messi\n",
      "Oops! You are out of guesses.\n"
     ]
    }
   ],
   "source": [
    "#Guess game\n",
    "secret_key = 'Messi'\n",
    "guess = ''\n",
    "guess_count = 0\n",
    "guess_limit = 3\n",
    "out_of_guesses = False\n",
    "\n",
    "while guess != secret_key and not(out_of_guesses):\n",
    "    if guess_count < guess_limit:\n",
    "        guess = input('Enter your guess: ')\n",
    "        guess_count += 1\n",
    "    else:\n",
    "        out_of_guesses = True\n",
    "        \n",
    "if out_of_guesses:\n",
    "    print('Oops! You are out of guesses.')\n",
    "else:\n",
    "    print('Successful!')\n",
    "#print('Successful.')"
   ]
  },
  {
   "cell_type": "code",
   "execution_count": 34,
   "metadata": {},
   "outputs": [
    {
     "name": "stdout",
     "output_type": "stream",
     "text": [
      "J\n",
      "a\n",
      "h\n",
      "i\n",
      "d\n",
      " \n",
      "H\n",
      "a\n",
      "s\n",
      "a\n",
      "n\n"
     ]
    }
   ],
   "source": [
    "#For loops\n",
    "for char in 'Jahid Hasan':\n",
    "    print(char)"
   ]
  },
  {
   "cell_type": "code",
   "execution_count": 41,
   "metadata": {},
   "outputs": [
    {
     "name": "stdout",
     "output_type": "stream",
     "text": [
      "Jahid\n",
      "Jack\n",
      "Seth\n"
     ]
    }
   ],
   "source": [
    "chars = ['Jahid', 'Jack','Seth']\n",
    "\n",
    "for char in chars:\n",
    "    print(char)"
   ]
  },
  {
   "cell_type": "code",
   "execution_count": 42,
   "metadata": {},
   "outputs": [
    {
     "name": "stdout",
     "output_type": "stream",
     "text": [
      "0\n",
      "1\n",
      "2\n",
      "3\n",
      "4\n",
      "5\n",
      "6\n",
      "7\n",
      "8\n",
      "9\n"
     ]
    }
   ],
   "source": [
    "chars = ['Jahid', 'Jack','Seth']\n",
    "\n",
    "for index in range(10):\n",
    "    print(index)"
   ]
  },
  {
   "cell_type": "code",
   "execution_count": 43,
   "metadata": {},
   "outputs": [
    {
     "name": "stdout",
     "output_type": "stream",
     "text": [
      "3\n",
      "4\n",
      "5\n",
      "6\n",
      "7\n",
      "8\n",
      "9\n"
     ]
    }
   ],
   "source": [
    "for index in range(3, 10):\n",
    "    print(index)"
   ]
  },
  {
   "cell_type": "code",
   "execution_count": 49,
   "metadata": {},
   "outputs": [
    {
     "name": "stdout",
     "output_type": "stream",
     "text": [
      "Jahid\n",
      "Jack\n",
      "Seth\n"
     ]
    }
   ],
   "source": [
    "chars = ['Jahid', 'Jack','Seth']\n",
    "len(chars)\n",
    "for index in range(len(chars)):\n",
    "    print(chars[index])\n",
    "    #print(chars)"
   ]
  },
  {
   "cell_type": "code",
   "execution_count": 54,
   "metadata": {},
   "outputs": [
    {
     "name": "stdout",
     "output_type": "stream",
     "text": [
      "First shot.\n",
      "Last shot.\n",
      "Last shot.\n",
      "Last shot.\n",
      "Last shot.\n"
     ]
    }
   ],
   "source": [
    "chars = ['Jahid', 'Jack','Seth']\n",
    "\n",
    "for index in range(5):\n",
    "    if index == 0:\n",
    "        print('First shot.')\n",
    "    else:\n",
    "        print('Last shot.')"
   ]
  },
  {
   "cell_type": "code",
   "execution_count": 55,
   "metadata": {},
   "outputs": [
    {
     "name": "stdout",
     "output_type": "stream",
     "text": [
      "8\n"
     ]
    }
   ],
   "source": [
    "#Exponent\n",
    "print(2**3)"
   ]
  },
  {
   "cell_type": "code",
   "execution_count": 56,
   "metadata": {},
   "outputs": [
    {
     "name": "stdout",
     "output_type": "stream",
     "text": [
      "256\n"
     ]
    }
   ],
   "source": [
    "def exp_power(base_num, pow_num):\n",
    "    result = 1\n",
    "    for index in range(pow_num):\n",
    "        result = result * base_num\n",
    "    return result\n",
    "\n",
    "print(exp_power(2,8))"
   ]
  },
  {
   "cell_type": "code",
   "execution_count": 59,
   "metadata": {},
   "outputs": [
    {
     "name": "stdout",
     "output_type": "stream",
     "text": [
      "[[1, 2, 3, 4], [5, 6, 7, 8], [9, 10, 11, 12], [0]]\n",
      "1\n",
      "12\n"
     ]
    }
   ],
   "source": [
    "#2D lists and nested loops\n",
    "numbers = [\n",
    "    [1, 2, 3, 4],\n",
    "    [5, 6, 7, 8],\n",
    "    [9, 10, 11, 12],\n",
    "    [0]\n",
    "]\n",
    "\n",
    "print(numbers)\n",
    "print(numbers[0][0])\n",
    "print(numbers[2][3])"
   ]
  },
  {
   "cell_type": "code",
   "execution_count": 60,
   "metadata": {},
   "outputs": [
    {
     "name": "stdout",
     "output_type": "stream",
     "text": [
      "[1, 2, 3, 4]\n",
      "[5, 6, 7, 8]\n",
      "[9, 10, 11, 12]\n",
      "[0]\n"
     ]
    }
   ],
   "source": [
    "numbers = [\n",
    "    [1, 2, 3, 4],\n",
    "    [5, 6, 7, 8],\n",
    "    [9, 10, 11, 12],\n",
    "    [0]\n",
    "]\n",
    "\n",
    "for row in numbers:\n",
    "    print(row)"
   ]
  },
  {
   "cell_type": "code",
   "execution_count": 61,
   "metadata": {},
   "outputs": [
    {
     "name": "stdout",
     "output_type": "stream",
     "text": [
      "1\n",
      "2\n",
      "3\n",
      "4\n",
      "5\n",
      "6\n",
      "7\n",
      "8\n",
      "9\n",
      "10\n",
      "11\n",
      "12\n",
      "0\n"
     ]
    }
   ],
   "source": [
    "numbers = [\n",
    "    [1, 2, 3, 4],\n",
    "    [5, 6, 7, 8],\n",
    "    [9, 10, 11, 12],\n",
    "    [0]\n",
    "]\n",
    "\n",
    "for row in numbers:\n",
    "    for col in row:\n",
    "        print(col)"
   ]
  },
  {
   "cell_type": "code",
   "execution_count": 64,
   "metadata": {},
   "outputs": [
    {
     "name": "stdout",
     "output_type": "stream",
     "text": [
      "Enter a phrase: smackdown\n",
      "smjckdjwn\n"
     ]
    }
   ],
   "source": [
    "# Basic translator\n",
    "def translator(phrase):\n",
    "    translation = ''\n",
    "    for letter in phrase:\n",
    "        if letter in 'AEIOUaeiou':\n",
    "            translation = translation + 'j'\n",
    "        else:\n",
    "            translation = translation + letter\n",
    "    return translation\n",
    "\n",
    "print(translator(input('Enter a phrase: ')))"
   ]
  },
  {
   "cell_type": "code",
   "execution_count": null,
   "metadata": {},
   "outputs": [],
   "source": [
    "def translator(phrase):\n",
    "    translation = ''\n",
    "    for letter in phrase:\n",
    "        if letter.lower() in 'aeiou':\n",
    "            if letter.isupper():\n",
    "                translation = translation + 'J'\n",
    "            else:\n",
    "                translation = translation + 'j'\n",
    "        else:\n",
    "            translation = translation + letter\n",
    "    return translation\n",
    "\n",
    "print(translator(input('Enter a phrase: ')))"
   ]
  },
  {
   "cell_type": "code",
   "execution_count": 1,
   "metadata": {},
   "outputs": [
    {
     "name": "stdout",
     "output_type": "stream",
     "text": [
      "Enter a number: 5\n",
      "5\n"
     ]
    }
   ],
   "source": [
    "number =int(input('Enter a number: '))\n",
    "print(number)"
   ]
  },
  {
   "cell_type": "code",
   "execution_count": 3,
   "metadata": {},
   "outputs": [
    {
     "name": "stdout",
     "output_type": "stream",
     "text": [
      "Enter a number: 5\n",
      "5\n"
     ]
    }
   ],
   "source": [
    "try:\n",
    "    number =int(input('Enter a number: '))\n",
    "    print(number)\n",
    "except:\n",
    "    print('Invalid!')"
   ]
  },
  {
   "cell_type": "code",
   "execution_count": 4,
   "metadata": {},
   "outputs": [
    {
     "name": "stdout",
     "output_type": "stream",
     "text": [
      "Invalid!\n"
     ]
    }
   ],
   "source": [
    "try:\n",
    "    var = 10/0  #err, division err\n",
    "    number =int(input('Enter a number: '))\n",
    "    print(number)\n",
    "except:\n",
    "    print('Invalid!')"
   ]
  },
  {
   "cell_type": "code",
   "execution_count": 8,
   "metadata": {},
   "outputs": [
    {
     "name": "stdout",
     "output_type": "stream",
     "text": [
      "Enter a number: hd\n",
      "Invalid!\n"
     ]
    }
   ],
   "source": [
    "try:\n",
    "    #var = 10/0\n",
    "    number =int(input('Enter a number: '))\n",
    "    print(number)\n",
    "except ZeroDivisionError:\n",
    "    print('Divided by zero!')\n",
    "except ValueError:\n",
    "    print('Invalid!')"
   ]
  },
  {
   "cell_type": "code",
   "execution_count": 10,
   "metadata": {},
   "outputs": [
    {
     "name": "stdout",
     "output_type": "stream",
     "text": [
      "division by zero\n"
     ]
    }
   ],
   "source": [
    "try:\n",
    "    var = 10/0\n",
    "    number =int(input('Enter a number: '))\n",
    "    print(number)\n",
    "except ZeroDivisionError as err:\n",
    "    print(err)\n",
    "except ValueError:\n",
    "    print('Invalid!')"
   ]
  },
  {
   "cell_type": "code",
   "execution_count": 20,
   "metadata": {},
   "outputs": [
    {
     "name": "stdout",
     "output_type": "stream",
     "text": [
      "Hasan - Manager\n",
      "\n"
     ]
    }
   ],
   "source": [
    "#Reading files, r+ mean read and write\n",
    "data = open('test.txt', 'r')\n",
    "\n",
    "#get info from file\n",
    "#print(data.readable())\n",
    "\n",
    "#print(data.read())\n",
    "\n",
    "#print(data.readline())\n",
    "\n",
    "#print(data.readlines())  # array \n",
    "\n",
    "print(data.readlines()[1]) \n",
    "\n",
    "data.close()"
   ]
  },
  {
   "cell_type": "code",
   "execution_count": 23,
   "metadata": {},
   "outputs": [
    {
     "name": "stdout",
     "output_type": "stream",
     "text": [
      "Jahid - CEO\n",
      "\n",
      "Hasan - Manager\n",
      "\n",
      "Tom - Actor\n",
      "\n",
      "Michael - Singer\n",
      "\n",
      "Adele - Female singer\n",
      "\n",
      "Bob - Producer\n",
      "\n",
      "Arnold - Director\n"
     ]
    }
   ],
   "source": [
    "data = open('test.txt', 'r')\n",
    "\n",
    "for a in data.readlines():\n",
    "    print(a)\n",
    "data.close()"
   ]
  },
  {
   "cell_type": "code",
   "execution_count": 24,
   "metadata": {},
   "outputs": [
    {
     "name": "stdout",
     "output_type": "stream",
     "text": [
      "Jahid - CEO\n",
      "Hasan - Manager\n",
      "Tom - Actor\n",
      "Michael - Singer\n",
      "Adele - Female singer\n",
      "Bob - Producer\n",
      "Arnold - Director\n"
     ]
    }
   ],
   "source": [
    "#writing files and appending\n",
    "data = open('test.txt', 'r')\n",
    "\n",
    "print(data.read())\n",
    "\n",
    "data.close()"
   ]
  },
  {
   "cell_type": "code",
   "execution_count": 27,
   "metadata": {},
   "outputs": [],
   "source": [
    "data = open('test.txt', 'a')\n",
    "\n",
    "data.write('\\nJim - Comedian')\n",
    "\n",
    "data.close()"
   ]
  },
  {
   "cell_type": "code",
   "execution_count": 28,
   "metadata": {},
   "outputs": [],
   "source": [
    "#overright file\n",
    "data = open('test.txt', 'w')\n",
    "\n",
    "data.write('\\nJim - Comedian')\n",
    "\n",
    "data.close()"
   ]
  },
  {
   "cell_type": "code",
   "execution_count": 29,
   "metadata": {},
   "outputs": [],
   "source": [
    "#create new file\n",
    "data = open('test1.txt', 'a')\n",
    "\n",
    "data.write('\\nJim - Comedian')\n",
    "\n",
    "data.close()"
   ]
  },
  {
   "cell_type": "code",
   "execution_count": 30,
   "metadata": {},
   "outputs": [],
   "source": [
    "data = open('index.html', 'a')\n",
    "\n",
    "data.write('<p> This is a HTML file. </p>')\n",
    "\n",
    "data.close()"
   ]
  }
 ],
 "metadata": {
  "kernelspec": {
   "display_name": "Python 3",
   "language": "python",
   "name": "python3"
  },
  "language_info": {
   "codemirror_mode": {
    "name": "ipython",
    "version": 3
   },
   "file_extension": ".py",
   "mimetype": "text/x-python",
   "name": "python",
   "nbconvert_exporter": "python",
   "pygments_lexer": "ipython3",
   "version": "3.7.3"
  }
 },
 "nbformat": 4,
 "nbformat_minor": 2
}
